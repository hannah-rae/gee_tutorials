{
  "nbformat": 4,
  "nbformat_minor": 0,
  "metadata": {
    "colab": {
      "name": "SES230_GEE_kmeans.ipynb",
      "provenance": [],
      "collapsed_sections": [],
      "toc_visible": true,
      "include_colab_link": true
    },
    "kernelspec": {
      "name": "python3",
      "display_name": "Python 3"
    }
  },
  "cells": [
    {
      "cell_type": "markdown",
      "metadata": {
        "id": "view-in-github",
        "colab_type": "text"
      },
      "source": [
        "<a href=\"https://colab.research.google.com/github/hannah-rae/gee_tutorials/blob/main/SES230_GEE_kmeans.ipynb\" target=\"_parent\"><img src=\"https://colab.research.google.com/assets/colab-badge.svg\" alt=\"Open In Colab\"/></a>"
      ]
    },
    {
      "cell_type": "markdown",
      "metadata": {
        "id": "Jpq0nPLrDJFX"
      },
      "source": [
        "# SES 230 Lecture\n",
        "# Satellite Data Analysis in Google Earth Engine\n",
        "Google Earth Engine (GEE) is a cloud-based platform for interacting with and analyzing petabytes of satellite and other Earth data sets. GEE can be used with the Javascript browser-based code editor (https://code.earthengine.google.com) or the Python API. The main benefit of GEE is that it allows you to access huge remote sensing data sets and perform analysis entirely on Google's infrastructure without having to download files to install libraries on your own computer... for free!\n",
        "\n",
        "This tutorial shows how to use the GEE Python API to load example remote sensing data sets and perform basic analyses. We will learn how to:\n",
        "1.   define a region of interest (ROI) (`ee.Geometry`)\n",
        "2.   load satellite data sets (`ee.ImageCollection`)\n",
        "3.   filter data sets by time and regions of interest\n",
        "4.   compute band indices (e.g., NDVI)\n",
        "5.   analyze trends using linear regression\n",
        "6.   perform clustering analysis with K-means to reveal different land cover classes\n",
        "\n",
        "To run this Colab notebook, you will need a Google Earth Engine account (https://signup.earthengine.google.com/#!/) and a Google Drive account.\n"
      ]
    },
    {
      "cell_type": "markdown",
      "metadata": {
        "id": "2vUR2ZLiFh9l"
      },
      "source": [
        "## Set up your environment"
      ]
    },
    {
      "cell_type": "markdown",
      "metadata": {
        "id": "bHZaixUlFswx"
      },
      "source": [
        "Install the Google Earth Engine API"
      ]
    },
    {
      "cell_type": "code",
      "metadata": {
        "id": "qH7s8RIcDK4Y"
      },
      "source": [
        "!pip install earthengine-api"
      ],
      "execution_count": null,
      "outputs": []
    },
    {
      "cell_type": "markdown",
      "metadata": {
        "id": "hPx9rhiAGOmb"
      },
      "source": [
        "Authenticate your Google Earth Engine account"
      ]
    },
    {
      "cell_type": "code",
      "metadata": {
        "id": "2hM6ivtZDOkh"
      },
      "source": [
        "!earthengine authenticate"
      ],
      "execution_count": null,
      "outputs": []
    },
    {
      "cell_type": "markdown",
      "metadata": {
        "id": "un01YDDTGzKd"
      },
      "source": [
        "Import the Earth Engine API and initialize it."
      ]
    },
    {
      "cell_type": "code",
      "metadata": {
        "id": "RDyckF4ADvZ4"
      },
      "source": [
        "import ee\n",
        "ee.Initialize()"
      ],
      "execution_count": null,
      "outputs": []
    },
    {
      "cell_type": "markdown",
      "metadata": {
        "id": "WqaeFQRBF0pK"
      },
      "source": [
        "Install `geemap`, a python library that provides useful functions for the GEE Python API (https://github.com/giswqs/geemap)"
      ]
    },
    {
      "cell_type": "code",
      "metadata": {
        "id": "b9IkIYQNJoS4"
      },
      "source": [
        "!pip install geemap"
      ],
      "execution_count": null,
      "outputs": []
    },
    {
      "cell_type": "markdown",
      "metadata": {
        "id": "EsOxFbdRG8tr"
      },
      "source": [
        "Import `geemap`. We import the `eefolium` version because the default version uses `ipyleaflet`, which is not supported in Colab yet."
      ]
    },
    {
      "cell_type": "code",
      "metadata": {
        "id": "nSPS66UzHd0S"
      },
      "source": [
        "import geemap.eefolium as geemap"
      ],
      "execution_count": null,
      "outputs": []
    },
    {
      "cell_type": "markdown",
      "metadata": {
        "id": "MTvUXNADHxso"
      },
      "source": [
        "## Displaying the map"
      ]
    },
    {
      "cell_type": "markdown",
      "metadata": {
        "id": "F_oaGCBEHgVu"
      },
      "source": [
        "GEE enables you to visualize your data and outputs on a map using `folium` or other python libraries for map visualization. The `geemap` library provides useful wrapper functions for visualizing the map in just a couple of lines."
      ]
    },
    {
      "cell_type": "code",
      "metadata": {
        "id": "KIXc3eSkKFX5"
      },
      "source": [
        "Map = geemap.Map() # Instantiate a new map\n",
        "Map # Display the Map object"
      ],
      "execution_count": null,
      "outputs": []
    },
    {
      "cell_type": "markdown",
      "metadata": {
        "id": "aYlji5XZHIlZ"
      },
      "source": [
        "## Define a region of interest (ROI)"
      ]
    },
    {
      "cell_type": "markdown",
      "metadata": {
        "id": "cCyW-3AIHQun"
      },
      "source": [
        "http://bboxfinder.com can be used to draw a bounding box and get the coordinates for that bounding box anywhere in the world.\n",
        "\n",
        "Here is a bounding box around Tempe, AZ:\n",
        "http://bboxfinder.com/#33.406947,-111.971585,33.473126,-111.907899\n",
        "\n",
        "Copy the min/max longitude/latitude from bboxfinder:"
      ]
    },
    {
      "cell_type": "code",
      "metadata": {
        "id": "gEEz6AFtGofD"
      },
      "source": [
        "xmin,ymin,xmax,ymax = -111.971585,33.406947,-111.907899,33.473126"
      ],
      "execution_count": null,
      "outputs": []
    },
    {
      "cell_type": "markdown",
      "metadata": {
        "id": "ST7TcyrEIhuJ"
      },
      "source": [
        "Create an `ee.Geometry.Rectangle` object defined by those coordinates."
      ]
    },
    {
      "cell_type": "code",
      "metadata": {
        "id": "XPz4eb6OHRmK"
      },
      "source": [
        "bbox = ee.Geometry.Rectangle([xmin,ymin,xmax,ymax])"
      ],
      "execution_count": null,
      "outputs": []
    },
    {
      "cell_type": "markdown",
      "metadata": {
        "id": "cFsSjJzLIzzc"
      },
      "source": [
        "Then we add our bounding box to the map and give it the name ASU."
      ]
    },
    {
      "cell_type": "code",
      "metadata": {
        "id": "ONKS8cQXKFgU"
      },
      "source": [
        "Map.addLayer(bbox, name='ASU') # Add the bbox as a layer on the map\n",
        "Map.centerObject(bbox, zoom=10) # Center the Map on the bbox object with zoom level 10"
      ],
      "execution_count": null,
      "outputs": []
    },
    {
      "cell_type": "markdown",
      "metadata": {
        "id": "qE-TDDpKJARS"
      },
      "source": [
        "Map.addLayerControl() allows us to control which layers we are viewing on the map. Click the map layer icon in the top right to toggle layers on/off."
      ]
    },
    {
      "cell_type": "code",
      "metadata": {
        "id": "tSAkutHzQwNk"
      },
      "source": [
        "Map.addLayerControl() \n",
        "Map"
      ],
      "execution_count": null,
      "outputs": []
    },
    {
      "cell_type": "markdown",
      "metadata": {
        "id": "KrSd_7fjJTyg"
      },
      "source": [
        "## Load satellite data sets"
      ]
    },
    {
      "cell_type": "markdown",
      "metadata": {
        "id": "16iMOEc6FHsv"
      },
      "source": [
        "The Google Earth Engine catalog documents the vast archive of remote sensing data sets that you can access through GEE: \n",
        "https://developers.google.com/earth-engine/datasets\n",
        "\n",
        "One of the most frequently used satellite data sets is from the Landsat-8 satellite. Landsat acquires multispectral (visiable, infrared, thermal) images at 30m/pixel resolution with 16 day revisit time:\n",
        "https://developers.google.com/earth-engine/datasets/catalog/LANDSAT_LC08_C01_T1_SR "
      ]
    },
    {
      "cell_type": "markdown",
      "metadata": {
        "id": "DWkPDvV-KIbX"
      },
      "source": [
        "Data sets like Landsat can be loaded as `ee.ImageCollection` objects. An `ImageCollection` contains many `ee.Image` objects from various times, regions, etc. "
      ]
    },
    {
      "cell_type": "code",
      "metadata": {
        "id": "Xuw_ZiVsHkAn"
      },
      "source": [
        "landsat = ee.ImageCollection('LANDSAT/LC08/C01/T1_SR')"
      ],
      "execution_count": null,
      "outputs": []
    },
    {
      "cell_type": "markdown",
      "metadata": {
        "id": "gPq-Kep_NIUT"
      },
      "source": [
        "## Filter data sets"
      ]
    },
    {
      "cell_type": "markdown",
      "metadata": {
        "id": "3lMweAuaKXNR"
      },
      "source": [
        "Now, our landsat variable contains this entire Landsat-8 archive. We want to filter this archive to only contain images for our specific ROI. This is done with the `filterBounds()` function."
      ]
    },
    {
      "cell_type": "code",
      "metadata": {
        "id": "43dEMTVKKkr6"
      },
      "source": [
        "landsat = landsat.filterBounds(bbox)"
      ],
      "execution_count": null,
      "outputs": []
    },
    {
      "cell_type": "code",
      "metadata": {
        "id": "I6OQtv_KK2AQ"
      },
      "source": [
        "Map = geemap.Map() # Instantiate a new map\n",
        "Map.addLayer(bbox, name='ASU') # Add the bbox as a layer on the map\n",
        "Map.centerObject(bbox, zoom=10) # Center the Map on the bbox object with zoom level 10\n",
        "Map.addLayer(landsat, name='Landsat8') # Add the Landsat-8 collection filtered by our bbox\n",
        "Map.addLayerControl() # Add layer control to toggle layers\n",
        "Map # Display the map"
      ],
      "execution_count": null,
      "outputs": []
    },
    {
      "cell_type": "markdown",
      "metadata": {
        "id": "Qpir9UquLcej"
      },
      "source": [
        "...why is it all gray?!\n",
        "\n",
        "This is because Landsat-8 has many bands with different ranges of values, and we haven't told it how to visualize the data. The GEE Catalog documents what these bands are: https://developers.google.com/earth-engine/datasets/catalog/LANDSAT_LC08_C01_T1_SR#bands\n",
        "\n",
        "This catalog tells us that the red, green, and blue bands are `'B4'`, `'B3'`, and `'B2'`. It also gives us a code example of good visualization parameters for this data set. We'll use those."
      ]
    },
    {
      "cell_type": "code",
      "metadata": {
        "id": "lk6ll7wlUEju"
      },
      "source": [
        "visParams = {\n",
        "  'bands': ['B4', 'B3', 'B2'],\n",
        "  'min': 0,\n",
        "  'max': 3000,\n",
        "  'gamma': 1.4,\n",
        "}"
      ],
      "execution_count": null,
      "outputs": []
    },
    {
      "cell_type": "code",
      "metadata": {
        "id": "pbOUaC_-Mzmn"
      },
      "source": [
        "Map = geemap.Map() # Instantiate a new map\n",
        "Map.addLayer(bbox, name='ASU') # Add the bbox as a layer on the map\n",
        "Map.centerObject(bbox, zoom=10) # Center the Map on the bbox object with zoom level 10\n",
        "Map.addLayer(landsat, visParams, name='Landsat8') # Add the Landsat-8 collection filtered by our bbox\n",
        "Map.addLayerControl() # Add layer control to toggle layers\n",
        "Map # Display the map"
      ],
      "execution_count": null,
      "outputs": []
    },
    {
      "cell_type": "markdown",
      "metadata": {
        "id": "CNBIMGhjM_iY"
      },
      "source": [
        "Much better! \n",
        "\n",
        "Now, we want to filter our data set by a time period that we are interested in. Let's use 2019. We can filter by start and end dates using the filterDate() function."
      ]
    },
    {
      "cell_type": "code",
      "metadata": {
        "id": "KtIbCjqDKXv2"
      },
      "source": [
        "landsat = landsat.filterDate('2019-01-01', '2019-12-31')"
      ],
      "execution_count": null,
      "outputs": []
    },
    {
      "cell_type": "code",
      "metadata": {
        "id": "Z02G1VIZNYiu"
      },
      "source": [
        "Map = geemap.Map() # Instantiate a new map\n",
        "Map.addLayer(bbox, name='ASU') # Add the bbox as a layer on the map\n",
        "Map.centerObject(bbox, zoom=10) # Center the Map on the bbox object with zoom level 10\n",
        "Map.addLayer(landsat, visParams, name='Landsat8') # Add the Landsat-8 collection filtered by our bbox\n",
        "Map.addLayerControl() # Add layer control to toggle layers\n",
        "Map # Display the map"
      ],
      "execution_count": null,
      "outputs": []
    },
    {
      "cell_type": "markdown",
      "metadata": {
        "id": "MzMyGJPjNhIk"
      },
      "source": [
        "Our map looks a bit different now, since we are displaying only images from 2019. There are a lot more clouds. We could use a cloud mask to remove the clouds, but for now, let's just restrict the time period even further to the summer."
      ]
    },
    {
      "cell_type": "code",
      "metadata": {
        "id": "oo8wX6CiOABb"
      },
      "source": [
        "landsat = landsat.filterDate('2019-05-01', '2019-08-31')"
      ],
      "execution_count": null,
      "outputs": []
    },
    {
      "cell_type": "code",
      "metadata": {
        "id": "yJuh-xoVOHjT"
      },
      "source": [
        "Map = geemap.Map() # Instantiate a new map\n",
        "Map.addLayer(bbox, name='ASU') # Add the bbox as a layer on the map\n",
        "Map.centerObject(bbox, zoom=10) # Center the Map on the bbox object with zoom level 10\n",
        "Map.addLayer(landsat, visParams, name='Landsat8') # Add the Landsat-8 collection filtered by our bbox\n",
        "Map.addLayerControl() # Add layer control to toggle layers\n",
        "Map # Display the map"
      ],
      "execution_count": null,
      "outputs": []
    },
    {
      "cell_type": "markdown",
      "metadata": {
        "id": "43NC27zaONyc"
      },
      "source": [
        "Now we are pretty much cloud-free. (But notice the seam lines!)\n",
        "\n",
        "Here we are still displaying a collection of all the images that intersected with our bounding box, all stacked on top of each other. To fuse them into one image, we can use the `mosaic()` function. This stitches the images into one, keeping the most recently acquired images on top. "
      ]
    },
    {
      "cell_type": "code",
      "metadata": {
        "id": "XZVFmdwiNVmq"
      },
      "source": [
        "landsat_mosaic = landsat.mosaic()"
      ],
      "execution_count": null,
      "outputs": []
    },
    {
      "cell_type": "code",
      "metadata": {
        "id": "AQAtV-gyPaPj"
      },
      "source": [
        "Map = geemap.Map() # Instantiate a new map\n",
        "Map.addLayer(bbox, name='ASU') # Add the bbox as a layer on the map\n",
        "Map.centerObject(bbox, zoom=10) # Center the Map on the bbox object with zoom level 10\n",
        "Map.addLayer(landsat_mosaic, visParams, name='Landsat8') # Add the Landsat-8 collection filtered by our bbox\n",
        "Map.addLayerControl() # Add layer control to toggle layers\n",
        "Map # Display the map"
      ],
      "execution_count": null,
      "outputs": []
    },
    {
      "cell_type": "markdown",
      "metadata": {
        "id": "btia0siePhbu"
      },
      "source": [
        "You can also use other functions to composite the images, such as `min()` or `max()` or `median()`. We can add a different composite to the map to see how it compares to the last-on-top method."
      ]
    },
    {
      "cell_type": "code",
      "metadata": {
        "id": "cs2_5DmbPt21"
      },
      "source": [
        "landsat_med = landsat.median()\n",
        "landsat_min = landsat.min()\n",
        "landsat_max = landsat.max()"
      ],
      "execution_count": null,
      "outputs": []
    },
    {
      "cell_type": "code",
      "metadata": {
        "id": "IUTwbxBZPt7c"
      },
      "source": [
        "Map = geemap.Map() # Instantiate a new map\n",
        "Map.addLayer(bbox, name='ASU') # Add the bbox as a layer on the map\n",
        "Map.centerObject(bbox, zoom=10) # Center the Map on the bbox object with zoom level 10\n",
        "\n",
        "Map.addLayer(landsat_mosaic, visParams, name='last on top') \n",
        "Map.addLayer(landsat_med, visParams, name='median') \n",
        "Map.addLayer(landsat_min, visParams, name='minimum')\n",
        "Map.addLayer(landsat_max, visParams, name='maximum') \n",
        "\n",
        "Map.addLayerControl() # Add layer control to toggle layers\n",
        "Map # Display the map"
      ],
      "execution_count": null,
      "outputs": []
    },
    {
      "cell_type": "markdown",
      "metadata": {
        "id": "umeKLrDsQTuW"
      },
      "source": [
        "What can we notice about the difference between these compositing methods? \n",
        "\n",
        "What are the different artifacts we see in each? \n",
        "\n",
        "Which looks like the best?"
      ]
    },
    {
      "cell_type": "markdown",
      "metadata": {
        "id": "6Kk3YzueQeLd"
      },
      "source": [
        "Now we've created a single cloud-free image from our collection of images. Since this was created by stitching together all the images that intersected with our bounding box, our image is still much larger than our bounding box. To clip an image to an ROI, we can use the `clip()` function."
      ]
    },
    {
      "cell_type": "code",
      "metadata": {
        "id": "g5AK-ravT9Rt"
      },
      "source": [
        "landsat_med = landsat_med.clip(bbox)"
      ],
      "execution_count": null,
      "outputs": []
    },
    {
      "cell_type": "code",
      "metadata": {
        "id": "lWpOPLZnUO4J"
      },
      "source": [
        "Map = geemap.Map() # Instantiate a new map\n",
        "Map.addLayer(bbox, name='ASU') # Add the bbox as a layer on the map\n",
        "Map.centerObject(bbox, zoom=10) # Center the Map on the bbox object with zoom level 10\n",
        "\n",
        "Map.addLayer(landsat_med, visParams, name='median') \n",
        "\n",
        "Map.addLayerControl() # Add layer control to toggle layers\n",
        "Map # Display the map"
      ],
      "execution_count": null,
      "outputs": []
    },
    {
      "cell_type": "markdown",
      "metadata": {
        "id": "0Sa2LXIscTD3"
      },
      "source": [
        "This image looks pretty blurry, right? \n",
        "\n",
        "That's because we are looking at a fairly small ROI at 30m/pixel resolution. ISTB4 is about 3,330 sq m, so all of ISTB4 would be reduced to about 2 pixels on this map. \n",
        "\n",
        "Sentinel-2 is another frequently-used Earth observation satellite that has 10m resolution and 5-day revisit frequency. While Landsat is managed by NASA/USGS, Sentinel-2 is managed by ESA. We can access this data set in GEE too:\n",
        "https://developers.google.com/earth-engine/datasets/catalog/COPERNICUS_S2_SR"
      ]
    },
    {
      "cell_type": "code",
      "metadata": {
        "id": "eQkW_sGUdYQQ"
      },
      "source": [
        "s2 = ee.ImageCollection('COPERNICUS/S2_SR')"
      ],
      "execution_count": null,
      "outputs": []
    },
    {
      "cell_type": "markdown",
      "metadata": {
        "id": "bAyeb4TAdrpL"
      },
      "source": [
        "We used multiple functions to progressively filter the Landsat data set. We can also chain these all together in one line."
      ]
    },
    {
      "cell_type": "code",
      "metadata": {
        "id": "sJFWrQTRdYUM"
      },
      "source": [
        "s2 = s2.filterBounds(bbox).filterDate('2019-05-01', '2019-08-31').median().clip(bbox)"
      ],
      "execution_count": null,
      "outputs": []
    },
    {
      "cell_type": "code",
      "metadata": {
        "id": "l4JgzfUneEAJ"
      },
      "source": [
        "Map = geemap.Map() # Instantiate a new map\n",
        "Map.addLayer(bbox, name='ASU') # Add the bbox as a layer on the map\n",
        "Map.centerObject(bbox, zoom=10) # Center the Map on the bbox object with zoom level 10\n",
        "\n",
        "Map.addLayer(landsat_med, visParams, name='Landsat-8') # Add the Landsat layer\n",
        "Map.addLayer(s2, visParams, name='Sentinel-2')  # Add the Sentinel-2 layer\n",
        "\n",
        "Map.addLayerControl() # Add layer control to toggle layers\n",
        "Map # Display the map"
      ],
      "execution_count": null,
      "outputs": []
    },
    {
      "cell_type": "markdown",
      "metadata": {
        "id": "-rbdCiqyeYEQ"
      },
      "source": [
        "What differences can we see comparing the images at these two resolutions?"
      ]
    },
    {
      "cell_type": "markdown",
      "metadata": {
        "id": "PWXQ6v8pefSC"
      },
      "source": [
        "## Compute band indices\n",
        "\n",
        "Ratios between different spectral bands, called \"band indices,\" are commonly used to emphasize or reveal different land cover patterns in satellite imagery. \n",
        "\n",
        "For example, NDVI (NIR-RED/NIR+RED) is used to show vegetation. Low NDVI typically corresponds to clouds or water while high NDVI corresponds to healthy vegetation."
      ]
    },
    {
      "cell_type": "code",
      "metadata": {
        "id": "QBhXOiJSURq_"
      },
      "source": [
        "ndvi = s2.normalizedDifference(['B8', 'B4'])"
      ],
      "execution_count": null,
      "outputs": []
    },
    {
      "cell_type": "markdown",
      "metadata": {
        "id": "YunxbqeGfTdL"
      },
      "source": [
        "NDVI values range from -1 to 1. We can define new visualization parameters to display NDVI. "
      ]
    },
    {
      "cell_type": "code",
      "metadata": {
        "id": "-kTLwO5EY8-t"
      },
      "source": [
        "ndvi_vis = {\n",
        "    'min': -1,\n",
        "    'max':1,\n",
        "    'palette': ['3498DB', 'FFFFFF', '008000']\n",
        "}"
      ],
      "execution_count": null,
      "outputs": []
    },
    {
      "cell_type": "code",
      "metadata": {
        "id": "bzHeICoBffa_"
      },
      "source": [
        "Map = geemap.Map() # Instantiate a new map\n",
        "Map.addLayer(bbox, name='ASU') # Add the bbox as a layer on the map\n",
        "Map.centerObject(bbox, zoom=10) # Center the Map on the bbox object with zoom level 10\n",
        "\n",
        "Map.addLayer(s2, visParams, name='Sentinel-2')  # Add the Sentinel-2 layer\n",
        "Map.addLayer(ndvi, ndvi_vis, name='NDVI')  # Add the NDVI layer\n",
        "\n",
        "Map.addLayerControl() # Add layer control to toggle layers\n",
        "Map # Display the map"
      ],
      "execution_count": null,
      "outputs": []
    },
    {
      "cell_type": "markdown",
      "metadata": {
        "id": "utaAJUdafwmG"
      },
      "source": [
        "What do we notice? Which objects have high NDVI? Low NDVI?"
      ]
    },
    {
      "cell_type": "markdown",
      "metadata": {
        "id": "DTzoGM6U6drE"
      },
      "source": [
        "## Linear regression\n",
        "\n",
        "In previous lectures, you learned how to use linear regression to quantify trends in variables (e.g., distance to nearest Hawaiian island over time). Linear regression is simply fitting a line (y=mx+b) to your data such that your choice of m and b minimize the distance between data samples and your line.\n",
        "\n",
        "Here, we'll use linear regression to quantify how vegetation (via NDVI) is changing over time. Since the Landsat-8 record goes back to 2013 and the Sentinel-2 record only goes back to 2017, we'll use Landsat-8 so we can see longer-term trends. \n",
        "\n",
        "In this setup, our independent (x) variable is time and our dependent (y)variable is NDVI. First, let's see what sort of changes we should expect to see by visualizing NDVI in 2013 compared to 2020."
      ]
    },
    {
      "cell_type": "code",
      "metadata": {
        "id": "ni39QvVPRPpR"
      },
      "source": [
        "# Get median NDVI for our ROI in 2013\n",
        "l8_ndvi_2013 = ee.ImageCollection(\"LANDSAT/LC08/C01/T1_SR\")\\\n",
        "               .filterDate('2013-01-01', '2013-12-31')\\\n",
        "               .filterBounds(bbox)\\\n",
        "               .median()\\\n",
        "               .normalizedDifference(['B5', 'B4'])\\\n",
        "               .clip(bbox)"
      ],
      "execution_count": null,
      "outputs": []
    },
    {
      "cell_type": "code",
      "metadata": {
        "id": "qs1XEgnkRqar"
      },
      "source": [
        "# Get median NDVI for our ROI in 2020\n",
        "l8_ndvi_2020 = ee.ImageCollection(\"LANDSAT/LC08/C01/T1_SR\")\\\n",
        "               .filterDate('2020-01-01', '2020-12-31')\\\n",
        "               .filterBounds(bbox)\\\n",
        "               .median()\\\n",
        "               .normalizedDifference(['B5', 'B4'])\\\n",
        "               .clip(bbox)"
      ],
      "execution_count": null,
      "outputs": []
    },
    {
      "cell_type": "code",
      "metadata": {
        "id": "jX7f06jFRvGb"
      },
      "source": [
        "Map = geemap.Map() # Instantiate a new map\n",
        "Map.addLayer(bbox, name='ASU') # Add the bbox as a layer on the map\n",
        "Map.centerObject(bbox, zoom=10) # Center the Map on the bbox object with zoom level 10\n",
        "\n",
        "Map.addLayer(landsat_med, visParams, name='Landsat')  # Add the Landsat-8 layer\n",
        "Map.addLayer(l8_ndvi_2013, ndvi_vis, name='Landsat NDVI 2013')  # Add the 2013 NDVI layer\n",
        "Map.addLayer(l8_ndvi_2020, ndvi_vis, name='Landsat NDVI 2020')  # Add the 2020 NDVI layer\n",
        "\n",
        "Map.addLayerControl() # Add layer control to toggle layers\n",
        "Map # Display the map"
      ],
      "execution_count": null,
      "outputs": []
    },
    {
      "cell_type": "markdown",
      "metadata": {
        "id": "z5LicM7vTU6x"
      },
      "source": [
        "What kind of changes do we see between 2013 and 2020? Where have there been vegetation gains? Losses?"
      ]
    },
    {
      "cell_type": "markdown",
      "metadata": {
        "id": "LPTs10i3TdGU"
      },
      "source": [
        "We want to analyze trends across the whole Landsat-8 image collection record, from 2013-present, in our ROI. So we filter the collection by our ROI and this time period."
      ]
    },
    {
      "cell_type": "code",
      "metadata": {
        "id": "YKn0EiDvUtq_"
      },
      "source": [
        "def createTimeBand(image):\n",
        "  # Scale milliseconds by a large constant to avoid very small slopes\n",
        "  # in the linear regression output.\n",
        "  return image.addBands(image.metadata('system:time_start').divide(1e18))\n",
        "\n",
        "# Add NDVI band\n",
        "def addNDVIBand(image):\n",
        "  ndvi = image.normalizedDifference(['B5', 'B4']).rename('ndvi')\n",
        "  return image.addBands(ndvi)\n",
        "\n",
        "# Load the input image collection: projected climate data.\n",
        "l8_coll = ee.ImageCollection(\"LANDSAT/LC08/C01/T1_SR\")\\\n",
        "               .filterDate('2013-01-01', '2020-12-31')\\\n",
        "               .filterBounds(bbox)"
      ],
      "execution_count": null,
      "outputs": []
    },
    {
      "cell_type": "markdown",
      "metadata": {
        "id": "Yo0binKeUsE2"
      },
      "source": [
        "Now, for linear regression, we need to set up our independent (x, time) and dependent (y, NDVI) variables. We'll add these two variables as bands to each image in the collection. We can do this by creating helper functions `createTimeBand()` and `addNDVIBand()` and applying them to every image in the collection using the `map()` function."
      ]
    },
    {
      "cell_type": "code",
      "metadata": {
        "id": "vOpp1PebABJu"
      },
      "source": [
        "l8_coll = l8_coll.map(createTimeBand) # Add the time band to each image in the collection\n",
        "l8_coll = l8_coll.map(addNDVIBand) # Add NDVI band to each image in the collection"
      ],
      "execution_count": null,
      "outputs": []
    },
    {
      "cell_type": "markdown",
      "metadata": {
        "id": "6SfTas6AUwS2"
      },
      "source": [
        "We can use the GEE function `ee.Reducer.linearFit()` to use linear regression to fit a line to each pixel in our data. We select the time and NDVI bands that we added to the images in our collection to be the x and y variables.\n",
        "\n",
        "This function returns an image with two bands: 'scale' (the slope) and 'offset' (the y-intercept)."
      ]
    },
    {
      "cell_type": "code",
      "metadata": {
        "id": "6BktTAVQUwka"
      },
      "source": [
        "# Reduce the collection with the linear fit reducer.\n",
        "# Independent variable are followed by dependent variables.\n",
        "linearFit = l8_coll.select(['system:time_start', 'ndvi'])\\\n",
        "                      .reduce(ee.Reducer.linearFit())"
      ],
      "execution_count": null,
      "outputs": []
    },
    {
      "cell_type": "markdown",
      "metadata": {
        "id": "lot_Yi7rVnQ0"
      },
      "source": [
        "We can visualize trends using the slope of the best-fit line: negative values show vegetation loss and increasing values show vegetation gain. We'll visualize losses as red and gains as green."
      ]
    },
    {
      "cell_type": "code",
      "metadata": {
        "id": "jXgqk5p0PTaI"
      },
      "source": [
        "lr_vis = {\n",
        "    'bands': ['scale'],\n",
        "    'min': -1,\n",
        "    'max': 1,\n",
        "    'palette': ['FF0000', 'FFFFFF', '00FF00']\n",
        "}"
      ],
      "execution_count": null,
      "outputs": []
    },
    {
      "cell_type": "code",
      "metadata": {
        "id": "x8FV8FNaFler"
      },
      "source": [
        "Map = geemap.Map() # Instantiate a new map\n",
        "Map.addLayer(bbox, name='ASU') # Add the bbox as a layer on the map\n",
        "Map.centerObject(bbox, zoom=10) # Center the Map on the bbox object with zoom level 10\n",
        "\n",
        "Map.addLayer(landsat_med, visParams, name='Landsat')  # Add the Landsat-8 layer\n",
        "Map.addLayer(l8_ndvi_2013, ndvi_vis, name='Landsat NDVI 2013')  # Add the 2013 NDVI layer\n",
        "Map.addLayer(l8_ndvi_2020, ndvi_vis, name='Landsat NDVI 2020')  # Add the 2020 NDVI layer\n",
        "Map.addLayer(linearFit.clip(bbox), lr_vis, name='NDVI trend')  # Visualize the linear regression slope in each pixel\n",
        "\n",
        "Map.addLayerControl() # Add layer control to toggle layers\n",
        "Map # Display the map"
      ],
      "execution_count": null,
      "outputs": []
    },
    {
      "cell_type": "markdown",
      "metadata": {
        "id": "3kQRHQjiWEUQ"
      },
      "source": [
        "Where do we see vegetation losses? Vegetation gains?"
      ]
    },
    {
      "cell_type": "markdown",
      "metadata": {
        "id": "3NYUPuOTf580"
      },
      "source": [
        "## Cluster analysis"
      ]
    },
    {
      "cell_type": "markdown",
      "metadata": {
        "id": "6MsxxsX-Jzp-"
      },
      "source": [
        "**K-means** is a popular unsupervised clustering algorithm that tries to assign data points to *k* clusters such that each sample belongs to the cluster whose mean is closest to the sample value. \n",
        "\n",
        "The standard algorithm begins by randomly initializing $k$ cluster centroids and iteratively performing two steps: \n",
        "1. assigning points to the centroid with the nearest cluster mean, and \n",
        "2. re-computing each cluster mean (i.e., the mean of all samples assigned to the cluster). \n",
        "\n",
        "The algorithm converges and stops updating cluster assignments when the cluster assignment is no longer changing with each update. The Euclidean distance is typically used as the distance metric for finding the nearest centroid. \n",
        "\n",
        "The number of clusters *k* is a tunable hyperparameter, which could be chosen based on domain knowledge (e.g., number of land cover classes) or such that within-cluster variance is minimized.\n",
        "\n",
        "GEE provides the `ee.Clusterer.wekaKMeans()` object for doing K-means clustering. (Weka is a machine learning library that this implementation is based off of, hence the name `wekaKMeans`.)\n",
        "https://developers.google.com/earth-engine/guides/clustering\n",
        "\n",
        "First, we create a training data set by randomly sampling pixels in our NDVI data set."
      ]
    },
    {
      "cell_type": "code",
      "metadata": {
        "id": "bEUebRK6d7OE"
      },
      "source": [
        "# Make the training dataset.\n",
        "training = ndvi.sample(**{\n",
        "  'region': bbox, # restrict the sampling to our bounding box\n",
        "  'scale': 10, # sample within 30m/pixel cells, i.e. the data set resolution\n",
        "  'numPixels': 1000 # number of samples to draw\n",
        "})"
      ],
      "execution_count": null,
      "outputs": []
    },
    {
      "cell_type": "markdown",
      "metadata": {
        "id": "EgqtYUDGMMwE"
      },
      "source": [
        "Instantiate a clusterer object and specify how many clusters to use, then train it using the training points."
      ]
    },
    {
      "cell_type": "code",
      "metadata": {
        "id": "l5-9oCPQdOOz"
      },
      "source": [
        "clusterer = ee.Clusterer.wekaKMeans(3).train(training)"
      ],
      "execution_count": null,
      "outputs": []
    },
    {
      "cell_type": "markdown",
      "metadata": {
        "id": "Mj6Cm6KHMZIm"
      },
      "source": [
        "Cluster (predict on) the data set using the trained clusterer model."
      ]
    },
    {
      "cell_type": "code",
      "metadata": {
        "id": "oyMi3Av7ycqY"
      },
      "source": [
        "result = ndvi.cluster(clusterer)"
      ],
      "execution_count": null,
      "outputs": []
    },
    {
      "cell_type": "code",
      "metadata": {
        "id": "EVtDsWmXygfR"
      },
      "source": [
        "Map = geemap.Map() # Instantiate a new map\n",
        "Map.addLayer(bbox, name='ASU') # Add the bbox as a layer on the map\n",
        "Map.centerObject(bbox, zoom=10) # Center the Map on the bbox object with zoom level 10\n",
        "\n",
        "Map.addLayer(s2, visParams, name='Sentinel-2')  # Add the Sentinel-2 layer\n",
        "Map.addLayer(ndvi, ndvi_vis, name='NDVI')  # Add the NDVI layer\n",
        "Map.addLayer(result.randomVisualizer(), name='Clusters') # Add the clustered result with random colors\n",
        "\n",
        "Map.addLayerControl() # Add layer control to toggle layers\n",
        "Map # Display the map"
      ],
      "execution_count": null,
      "outputs": []
    },
    {
      "cell_type": "markdown",
      "metadata": {
        "id": "EpDYc8skM6j_"
      },
      "source": [
        "What patterns do we see? \n",
        "\n",
        "What happens if we change the number of clusters? "
      ]
    }
  ]
}