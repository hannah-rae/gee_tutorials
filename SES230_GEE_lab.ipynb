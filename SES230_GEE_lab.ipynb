{
  "nbformat": 4,
  "nbformat_minor": 0,
  "metadata": {
    "colab": {
      "name": "SES230_GEE_lab.ipynb",
      "provenance": [],
      "collapsed_sections": [],
      "include_colab_link": true
    },
    "kernelspec": {
      "name": "python3",
      "display_name": "Python 3"
    }
  },
  "cells": [
    {
      "cell_type": "markdown",
      "metadata": {
        "id": "view-in-github",
        "colab_type": "text"
      },
      "source": [
        "<a href=\"https://colab.research.google.com/github/hannah-rae/gee_tutorials/blob/main/SES230_GEE_lab.ipynb\" target=\"_parent\"><img src=\"https://colab.research.google.com/assets/colab-badge.svg\" alt=\"Open In Colab\"/></a>"
      ]
    },
    {
      "cell_type": "markdown",
      "metadata": {
        "id": "3fvhEZHJNciK"
      },
      "source": [
        "# SES 230 Lab\n",
        "# Satellite Data Analysis in Google Earth Engine\n",
        "\n",
        "In the [lecture](https://github.com/hannah-rae/gee_tutorials/blob/main/SES230_GEE_kmeans.ipynb) tutorial, we learned how to use GEE to analyze satellite data in the cloud using Landsat, Sentinel-2, band indices, and K-means clustering. \n",
        "\n",
        "In the lab, we'll explore this further with your own ROIs."
      ]
    },
    {
      "cell_type": "markdown",
      "metadata": {
        "id": "2vUR2ZLiFh9l"
      },
      "source": [
        "## Set up your environment"
      ]
    },
    {
      "cell_type": "markdown",
      "metadata": {
        "id": "bHZaixUlFswx"
      },
      "source": [
        "Install the Google Earth Engine API"
      ]
    },
    {
      "cell_type": "code",
      "metadata": {
        "id": "qH7s8RIcDK4Y"
      },
      "source": [
        "!pip install earthengine-api"
      ],
      "execution_count": null,
      "outputs": []
    },
    {
      "cell_type": "markdown",
      "metadata": {
        "id": "hPx9rhiAGOmb"
      },
      "source": [
        "Authenticate your Google Earth Engine account"
      ]
    },
    {
      "cell_type": "code",
      "metadata": {
        "id": "2hM6ivtZDOkh"
      },
      "source": [
        "!earthengine authenticate"
      ],
      "execution_count": null,
      "outputs": []
    },
    {
      "cell_type": "markdown",
      "metadata": {
        "id": "un01YDDTGzKd"
      },
      "source": [
        "Import the Earth Engine API and initialize it."
      ]
    },
    {
      "cell_type": "code",
      "metadata": {
        "id": "RDyckF4ADvZ4"
      },
      "source": [
        "import ee\n",
        "ee.Initialize()"
      ],
      "execution_count": null,
      "outputs": []
    },
    {
      "cell_type": "markdown",
      "metadata": {
        "id": "WqaeFQRBF0pK"
      },
      "source": [
        "Install `geemap`, a python library that provides useful functions for the GEE Python API (https://github.com/giswqs/geemap)"
      ]
    },
    {
      "cell_type": "code",
      "metadata": {
        "id": "b9IkIYQNJoS4"
      },
      "source": [
        "!pip install geemap"
      ],
      "execution_count": null,
      "outputs": []
    },
    {
      "cell_type": "markdown",
      "metadata": {
        "id": "EsOxFbdRG8tr"
      },
      "source": [
        "Import `geemap`. We import the `eefolium` version because the default version uses `ipyleaflet`, which is not supported in Colab yet."
      ]
    },
    {
      "cell_type": "code",
      "metadata": {
        "id": "nSPS66UzHd0S"
      },
      "source": [
        "import geemap.eefolium as geemap"
      ],
      "execution_count": null,
      "outputs": []
    },
    {
      "cell_type": "markdown",
      "metadata": {
        "id": "myH1kEjXGcTz"
      },
      "source": [
        "Mount your Google Drive account as your filesystem for this Colab notebook. This is needed if you want to export data from Google Earth Engine, or you want to open any files from your Google Drive."
      ]
    },
    {
      "cell_type": "code",
      "metadata": {
        "id": "ZvF2k-Y0DUqQ"
      },
      "source": [
        "from google.colab import drive\n",
        "drive.mount('/content/drive')"
      ],
      "execution_count": null,
      "outputs": []
    },
    {
      "cell_type": "markdown",
      "metadata": {
        "id": "aYlji5XZHIlZ"
      },
      "source": [
        "## Define a region of interest (ROI)"
      ]
    },
    {
      "cell_type": "markdown",
      "metadata": {
        "id": "cCyW-3AIHQun"
      },
      "source": [
        "http://bboxfinder.com can be used to draw a bounding box and get the coordinates for that bounding box anywhere in the world.\n",
        "\n",
        "In the lecture, we used this one around Tempe, AZ:\n",
        "http://bboxfinder.com/#33.406947,-111.971585,33.473126,-111.907899\n",
        "\n",
        "Use bboxfinder to draw your own bounding box anywhere in the world and enter the min/max longitude/latitude below:"
      ]
    },
    {
      "cell_type": "code",
      "metadata": {
        "id": "gEEz6AFtGofD"
      },
      "source": [
        "# Enter the min lon, min lat, max lon, max lat\n",
        "xmin,ymin,xmax,ymax = # your code here"
      ],
      "execution_count": null,
      "outputs": []
    },
    {
      "cell_type": "markdown",
      "metadata": {
        "id": "ST7TcyrEIhuJ"
      },
      "source": [
        "Create an `ee.Geometry.Rectangle` object defined by those coordinates."
      ]
    },
    {
      "cell_type": "code",
      "metadata": {
        "id": "XPz4eb6OHRmK"
      },
      "source": [
        "bbox = ee.Geometry.Rectangle([xmin,ymin,xmax,ymax])"
      ],
      "execution_count": null,
      "outputs": []
    },
    {
      "cell_type": "markdown",
      "metadata": {
        "id": "cFsSjJzLIzzc"
      },
      "source": [
        "Then we add your bounding box to the map and give it a name."
      ]
    },
    {
      "cell_type": "code",
      "metadata": {
        "id": "ONKS8cQXKFgU"
      },
      "source": [
        "Map = geemap.Map() # Instantiate a new map\n",
        "Map.addLayer(bbox, name='your name here') # Add the bbox as a layer on the map\n",
        "Map.centerObject(bbox, zoom=10) # Center the Map on the bbox object with zoom level 10\n",
        "\n",
        "Map.addLayerControl() \n",
        "Map"
      ],
      "execution_count": null,
      "outputs": []
    },
    {
      "cell_type": "markdown",
      "metadata": {
        "id": "dq-ZmSxWQy4k"
      },
      "source": [
        "## Load satellite data sets\n",
        "\n",
        "Load the Sentinel-2 image collection and filter it by your ROI. For the time range, use the beginning of 2020 through November 1, 2020."
      ]
    },
    {
      "cell_type": "code",
      "metadata": {
        "id": "kCDKcPfjPiW2"
      },
      "source": [
        "s2 = ee.ImageCollection('COPERNICUS/S2_SR').filterBounds(# your code here).filterDate([#your code here])"
      ],
      "execution_count": null,
      "outputs": []
    },
    {
      "cell_type": "markdown",
      "metadata": {
        "id": "y-vYzPYpRccA"
      },
      "source": [
        "Display the image collection."
      ]
    },
    {
      "cell_type": "code",
      "metadata": {
        "id": "Nto--w3bRosk"
      },
      "source": [
        "visParams = {\n",
        "  'bands': ['B4', 'B3', 'B2'],\n",
        "  'min': 0,\n",
        "  'max': 3000,\n",
        "  'gamma': 1.4,\n",
        "}"
      ],
      "execution_count": null,
      "outputs": []
    },
    {
      "cell_type": "code",
      "metadata": {
        "id": "cMro_yPtRbUN"
      },
      "source": [
        "Map = geemap.Map() # Instantiate a new map\n",
        "Map.addLayer(bbox, name='your name here') # Add the bbox as a layer on the map\n",
        "Map.centerObject(bbox, zoom=10) # Center the Map on the bbox object with zoom level 10\n",
        "\n",
        "Map.addLayer(s2, visParams, name='Sentinel-2') # Add the Sentinel-2 collection for your ROI\n",
        "\n",
        "Map.addLayerControl() \n",
        "Map"
      ],
      "execution_count": null,
      "outputs": []
    },
    {
      "cell_type": "markdown",
      "metadata": {
        "id": "OOoRPLwjR2bI"
      },
      "source": [
        "Create a minimum value composite image from the collection and clip to to your ROI."
      ]
    },
    {
      "cell_type": "code",
      "metadata": {
        "id": "XU_LvMHRRwaT"
      },
      "source": [
        "s2 = s2.min().clip(# your code here)"
      ],
      "execution_count": null,
      "outputs": []
    },
    {
      "cell_type": "code",
      "metadata": {
        "id": "iwMu4nPiR9FN"
      },
      "source": [
        "Map = geemap.Map() # Instantiate a new map\n",
        "Map.addLayer(bbox, name='your name here') # Add the bbox as a layer on the map\n",
        "Map.centerObject(bbox, zoom=10) # Center the Map on the bbox object with zoom level 10\n",
        "\n",
        "Map.addLayer(s2, visParams, name='Sentinel-2') # Add the Sentinel-2 collection for your ROI\n",
        "\n",
        "Map.addLayerControl() \n",
        "Map"
      ],
      "execution_count": null,
      "outputs": []
    },
    {
      "cell_type": "markdown",
      "metadata": {
        "id": "5VgHYEPwSV-m"
      },
      "source": [
        "## Compute band indices\n",
        "\n",
        "Compute normalized difference vegetation index, or NDVI (NIR-RED/NIR+RED)"
      ]
    },
    {
      "cell_type": "code",
      "metadata": {
        "id": "_6NahD7QR_tv"
      },
      "source": [
        "ndvi = # your code here"
      ],
      "execution_count": null,
      "outputs": []
    },
    {
      "cell_type": "code",
      "metadata": {
        "id": "8K1QkDmlSmDF"
      },
      "source": [
        "ndvi_vis = {\n",
        "    'min': -1,\n",
        "    'max':1,\n",
        "    'palette': ['3498DB', 'FFFFFF', '008000']\n",
        "}"
      ],
      "execution_count": null,
      "outputs": []
    },
    {
      "cell_type": "code",
      "metadata": {
        "id": "v_Q044FOSjiF"
      },
      "source": [
        "Map = geemap.Map() # Instantiate a new map\n",
        "Map.addLayer(bbox, name='your name here') # Add the bbox as a layer on the map\n",
        "Map.centerObject(bbox, zoom=10) # Center the Map on the bbox object with zoom level 10\n",
        "\n",
        "Map.addLayer(s2, visParams, name='Sentinel-2') # Add the Sentinel-2 collection for your ROI\n",
        "Map.addLayer(ndvi, ndvi_vis, name='NDVI') # Add the NDVI image\n",
        "\n",
        "Map.addLayerControl() \n",
        "Map"
      ],
      "execution_count": null,
      "outputs": []
    },
    {
      "cell_type": "markdown",
      "metadata": {
        "id": "mvKh22ZBS184"
      },
      "source": [
        "There are many other indices that scientists use in addition to NDVI. One popular index is the normalized difference water index (NDWI). \n",
        "\n",
        "NDWI is computed as: (GREEN-NIR)/(GREEN+NIR)"
      ]
    },
    {
      "cell_type": "code",
      "metadata": {
        "id": "l6TuYMxzSuZ3"
      },
      "source": [
        "ndwi = # your code here"
      ],
      "execution_count": null,
      "outputs": []
    },
    {
      "cell_type": "markdown",
      "metadata": {
        "id": "l7VceqtZUDps"
      },
      "source": [
        "The colors we chose for the NDVI color map were based on what the values of NDVI might show (e.g., low values = water = blue, high values = vegetation = green). \n",
        "\n",
        "For NDWI, let's go from brown to white to blue."
      ]
    },
    {
      "cell_type": "code",
      "metadata": {
        "id": "vMcpkVdYTmMa"
      },
      "source": [
        "ndwi_vis = {\n",
        "    'min': -1,\n",
        "    'max':1,\n",
        "    'palette': ['964B00', 'FFFFFF', '3498DB']\n",
        "}"
      ],
      "execution_count": null,
      "outputs": []
    },
    {
      "cell_type": "code",
      "metadata": {
        "id": "pCpk-RfAToew"
      },
      "source": [
        "Map = geemap.Map() # Instantiate a new map\n",
        "Map.addLayer(bbox, name='your name here') # Add the bbox as a layer on the map\n",
        "Map.centerObject(bbox, zoom=10) # Center the Map on the bbox object with zoom level 10\n",
        "\n",
        "Map.addLayer(s2, visParams, name='Sentinel-2') # Add the Sentinel-2 collection for your ROI\n",
        "Map.addLayer(ndvi, ndvi_vis, name='NDVI') # Add the NDVI image\n",
        "Map.addLayer(ndwi, ndwi_vis, name='NDWI') # Add the NDWI image\n",
        "\n",
        "Map.addLayerControl() \n",
        "Map"
      ],
      "execution_count": null,
      "outputs": []
    },
    {
      "cell_type": "markdown",
      "metadata": {
        "id": "KHU27RrcXRY2"
      },
      "source": [
        "## Linear regression\n",
        "\n",
        "In the lecture, we used linear regression to quantify trends in vegetation (using NDVI). Let's do that again for your new ROI.\n",
        "\n",
        "First, visualize NDVI in your ROI in 2013 (the first year in the Landsat-8 record) and the present year."
      ]
    },
    {
      "cell_type": "code",
      "metadata": {
        "id": "ni39QvVPRPpR"
      },
      "source": [
        "# Get median NDVI for our ROI in 2013\n",
        "l8_ndvi_2013 = ee.ImageCollection(\"LANDSAT/LC08/C01/T1_SR\")\\\n",
        "               .filterDate('2013-01-01', '2013-12-31')\\\n",
        "               .filterBounds(bbox)\\\n",
        "               .median()\\\n",
        "               .normalizedDifference(['B5', 'B4'])\\\n",
        "               .clip(bbox)"
      ],
      "execution_count": null,
      "outputs": []
    },
    {
      "cell_type": "code",
      "metadata": {
        "id": "qs1XEgnkRqar"
      },
      "source": [
        "# Get median NDVI for our ROI in 2020\n",
        "l8_ndvi_2020 = ee.ImageCollection(\"LANDSAT/LC08/C01/T1_SR\")\\\n",
        "               .filterDate('2020-01-01', '2020-12-31')\\\n",
        "               .filterBounds(bbox)\\\n",
        "               .median()\\\n",
        "               .normalizedDifference(['B5', 'B4'])\\\n",
        "               .clip(bbox)"
      ],
      "execution_count": null,
      "outputs": []
    },
    {
      "cell_type": "code",
      "metadata": {
        "id": "jX7f06jFRvGb"
      },
      "source": [
        "Map = geemap.Map() # Instantiate a new map\n",
        "Map.addLayer(bbox, name='your name here') # Add the bbox as a layer on the map\n",
        "Map.centerObject(bbox, zoom=10) # Center the Map on the bbox object with zoom level 10\n",
        "\n",
        "Map.addLayer(landsat_med, visParams, name='Landsat')  # Add the Landsat-8 layer\n",
        "Map.addLayer(l8_ndvi_2013, ndvi_vis, name='Landsat NDVI 2013')  # Add the 2013 NDVI layer\n",
        "Map.addLayer(l8_ndvi_2020, ndvi_vis, name='Landsat NDVI 2020')  # Add the 2020 NDVI layer\n",
        "\n",
        "Map.addLayerControl() # Add layer control to toggle layers\n",
        "Map # Display the map"
      ],
      "execution_count": null,
      "outputs": []
    },
    {
      "cell_type": "markdown",
      "metadata": {
        "id": "LPTs10i3TdGU"
      },
      "source": [
        "We want to analyze trends across the whole Landsat-8 image collection record, from 2013-present, in our ROI. So we filter the collection by our ROI and this time period."
      ]
    },
    {
      "cell_type": "code",
      "metadata": {
        "id": "YKn0EiDvUtq_"
      },
      "source": [
        "def createTimeBand(image):\n",
        "  # Scale milliseconds by a large constant to avoid very small slopes\n",
        "  # in the linear regression output.\n",
        "  return image.addBands(image.metadata('system:time_start').divide(1e18))\n",
        "\n",
        "# Add NDVI band\n",
        "def addNDVIBand(image):\n",
        "  ndvi = image.normalizedDifference(['B5', 'B4']).rename('ndvi')\n",
        "  return image.addBands(ndvi)\n",
        "\n",
        "# Load the input image collection: projected climate data.\n",
        "l8_coll = ee.ImageCollection(\"LANDSAT/LC08/C01/T1_SR\")\\\n",
        "               .filterDate(# your code here)\\\n",
        "               .filterBounds(bbox)"
      ],
      "execution_count": null,
      "outputs": []
    },
    {
      "cell_type": "markdown",
      "metadata": {
        "id": "Yo0binKeUsE2"
      },
      "source": [
        "Now, for linear regression, we need to set up our independent (x, time) and dependent (y, NDVI) variables. We'll add these two variables as bands to each image in the collection. We can do this by creating helper functions `createTimeBand()` and `addNDVIBand()` and applying them to every image in the collection using the `map()` function."
      ]
    },
    {
      "cell_type": "code",
      "metadata": {
        "id": "vOpp1PebABJu"
      },
      "source": [
        "l8_coll = l8_coll.map(createTimeBand) # Add the time band to each image in the collection\n",
        "l8_coll = l8_coll.map(addNDVIBand) # Add NDVI band to each image in the collection"
      ],
      "execution_count": null,
      "outputs": []
    },
    {
      "cell_type": "markdown",
      "metadata": {
        "id": "6SfTas6AUwS2"
      },
      "source": [
        "We can use the GEE function `ee.Reducer.linearFit()` to use linear regression to fit a line to each pixel in our data. We select the time and NDVI bands that we added to the images in our collection to be the x and y variables.\n",
        "\n",
        "This function returns an image with two bands: 'scale' (the slope) and 'offset' (the y-intercept)."
      ]
    },
    {
      "cell_type": "code",
      "metadata": {
        "id": "6BktTAVQUwka"
      },
      "source": [
        "# Reduce the collection with the linear fit reducer.\n",
        "# Independent variable are followed by dependent variables.\n",
        "linearFit = l8_coll.select(['system:time_start', 'ndvi'])\\\n",
        "                      .reduce(ee.Reducer.linearFit())"
      ],
      "execution_count": null,
      "outputs": []
    },
    {
      "cell_type": "markdown",
      "metadata": {
        "id": "lot_Yi7rVnQ0"
      },
      "source": [
        "We can visualize trends using the slope of the best-fit line: negative values show vegetation loss and increasing values show vegetation gain. We'll visualize losses as red and gains as green."
      ]
    },
    {
      "cell_type": "code",
      "metadata": {
        "id": "jXgqk5p0PTaI"
      },
      "source": [
        "lr_vis = {\n",
        "    'bands': ['scale'],\n",
        "    'min': -1,\n",
        "    'max': 1,\n",
        "    'palette': ['FF0000', 'FFFFFF', '00FF00']\n",
        "}"
      ],
      "execution_count": null,
      "outputs": []
    },
    {
      "cell_type": "code",
      "metadata": {
        "id": "x8FV8FNaFler"
      },
      "source": [
        "Map = geemap.Map() # Instantiate a new map\n",
        "Map.addLayer(bbox, name='your name here') # Add the bbox as a layer on the map\n",
        "Map.centerObject(bbox, zoom=10) # Center the Map on the bbox object with zoom level 10\n",
        "\n",
        "Map.addLayer(landsat_med, visParams, name='Landsat')  # Add the Landsat-8 layer\n",
        "Map.addLayer(l8_ndvi_2013, ndvi_vis, name='Landsat NDVI 2013')  # Add the 2013 NDVI layer\n",
        "Map.addLayer(l8_ndvi_2020, ndvi_vis, name='Landsat NDVI 2020')  # Add the 2020 NDVI layer\n",
        "Map.addLayer(linearFit.clip(bbox), lr_vis, name='NDVI trend')  # Visualize the linear regression slope in each pixel\n",
        "\n",
        "Map.addLayerControl() # Add layer control to toggle layers\n",
        "Map # Display the map"
      ],
      "execution_count": null,
      "outputs": []
    },
    {
      "cell_type": "markdown",
      "metadata": {
        "id": "38OsfuV9VHFc"
      },
      "source": [
        "## Cluster analysis\n",
        "\n",
        "In the lecture, we clustered NDVI values to reveal land cover patterns. Now, let's cluster NDWI values.\n",
        "\n",
        "Create the training data set then train the clusterer."
      ]
    },
    {
      "cell_type": "code",
      "metadata": {
        "id": "1HAFe8olTsPU"
      },
      "source": [
        "# Make the training dataset.\n",
        "training = ndwi.sample(**{\n",
        "  'region': bbox, # restrict the sampling to our bounding box\n",
        "  'scale': 10, # sample within 30m/pixel cells, i.e. the data set resolution\n",
        "  'numPixels': 1000 # number of samples to draw\n",
        "})"
      ],
      "execution_count": null,
      "outputs": []
    },
    {
      "cell_type": "code",
      "metadata": {
        "id": "Aq_2pFEGVlq1"
      },
      "source": [
        "clusterer = ee.Clusterer.wekaKMeans(# your code here).train(training)"
      ],
      "execution_count": null,
      "outputs": []
    },
    {
      "cell_type": "markdown",
      "metadata": {
        "id": "wQymTA8sVrN8"
      },
      "source": [
        "Cluster (predict on) the data set using the trained clusterer model."
      ]
    },
    {
      "cell_type": "code",
      "metadata": {
        "id": "D-CiBc8sVrN9"
      },
      "source": [
        "result = ndwi.cluster(clusterer)"
      ],
      "execution_count": null,
      "outputs": []
    },
    {
      "cell_type": "markdown",
      "metadata": {
        "id": "Mj6Cm6KHMZIm"
      },
      "source": [
        "Visualize the clusters."
      ]
    },
    {
      "cell_type": "code",
      "metadata": {
        "id": "oyMi3Av7ycqY"
      },
      "source": [
        "Map = geemap.Map() # Instantiate a new map\n",
        "Map.addLayer(bbox, name='your name here') # Add the bbox as a layer on the map\n",
        "Map.centerObject(bbox, zoom=10) # Center the Map on the bbox object with zoom level 10\n",
        "\n",
        "Map.addLayer(s2, visParams, name='Sentinel-2') # Add the Sentinel-2 collection for your ROI\n",
        "Map.addLayer(ndwi, ndwi_vis, name='NDWI') # Add the NDWI image\n",
        "Map.addLayer(result.randomVisualizer(), name='Clusters') # Add the cluster results\n",
        "\n",
        "Map.addLayerControl() \n",
        "Map"
      ],
      "execution_count": null,
      "outputs": []
    },
    {
      "cell_type": "markdown",
      "metadata": {
        "id": "8eloCt9yWd5_"
      },
      "source": [
        "## Save your results\n",
        "\n",
        "Hooray! You've made it to the end. Save your NDWI image and cluster results as images."
      ]
    },
    {
      "cell_type": "code",
      "metadata": {
        "id": "1gHBdcdFVd5t"
      },
      "source": [
        "task = ee.batch.Export.image.toDrive(image=ndwi, \n",
        "                                           description='SES 230 NDWI', \n",
        "                                           scale=10, \n",
        "                                           region=bbox)"
      ],
      "execution_count": null,
      "outputs": []
    },
    {
      "cell_type": "code",
      "metadata": {
        "id": "MW3RFriHXElF"
      },
      "source": [
        "task.start()"
      ],
      "execution_count": null,
      "outputs": []
    },
    {
      "cell_type": "code",
      "metadata": {
        "id": "8YzXwc3SYY4h"
      },
      "source": [
        "task2 = ee.batch.Export.image.toDrive(image=result, \n",
        "                                           description='SES 230 Clusters', \n",
        "                                           scale=10, \n",
        "                                           region=bbox)"
      ],
      "execution_count": null,
      "outputs": []
    },
    {
      "cell_type": "code",
      "metadata": {
        "id": "GpkTUiXEdwuo"
      },
      "source": [
        "task2.start()"
      ],
      "execution_count": null,
      "outputs": []
    },
    {
      "cell_type": "code",
      "metadata": {
        "id": "mDIj-PMoXkST"
      },
      "source": [
        "task3 = ee.batch.Export.image.toDrive(image=linearFit.select('scale'), \n",
        "                                           description='SES 230 NDVI Trend', \n",
        "                                           scale=30, \n",
        "                                           region=bbox)"
      ],
      "execution_count": null,
      "outputs": []
    },
    {
      "cell_type": "code",
      "metadata": {
        "id": "xDhLPxg-dyN3"
      },
      "source": [
        "task.status()"
      ],
      "execution_count": null,
      "outputs": []
    },
    {
      "cell_type": "code",
      "metadata": {
        "id": "UwarWl_Rd0B4"
      },
      "source": [
        "task2.status()"
      ],
      "execution_count": null,
      "outputs": []
    },
    {
      "cell_type": "code",
      "metadata": {
        "id": "wJrZ8ARwYr3m"
      },
      "source": [
        "task3.status()"
      ],
      "execution_count": null,
      "outputs": []
    },
    {
      "cell_type": "markdown",
      "metadata": {
        "id": "8BL126Beejdm"
      },
      "source": [
        "## Bonus: load a new satellite data set\n",
        "\n",
        "Explore the GEE catalog and display a different data set within your ROI. \n",
        "\n",
        "https://developers.google.com/earth-engine/datasets\n",
        "\n",
        "Some ideas are:\n",
        "*   Thermal IR: https://developers.google.com/earth-engine/datasets/catalog/ASTER_AST_L1T_003\n",
        "*   Nighttime lights: https://developers.google.com/earth-engine/datasets/catalog/NOAA_DMSP-OLS_NIGHTTIME_LIGHTS?hl=en\n",
        "* Precipitation: https://developers.google.com/earth-engine/datasets/catalog/NASA_GPM_L3_IMERG_V06\n",
        "* Population: https://developers.google.com/earth-engine/datasets/catalog/WorldPop_GP_100m_pop\n",
        "\n"
      ]
    },
    {
      "cell_type": "code",
      "metadata": {
        "id": "rIKvMBgZeyzm"
      },
      "source": [
        "# your code here"
      ],
      "execution_count": null,
      "outputs": []
    }
  ]
}