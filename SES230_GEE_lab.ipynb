{
  "nbformat": 4,
  "nbformat_minor": 0,
  "metadata": {
    "colab": {
      "name": "SES230-GEE-lab.ipynb",
      "provenance": [],
      "collapsed_sections": [],
      "authorship_tag": "ABX9TyNksOk9iE15WdQsJWNeT9kE",
      "include_colab_link": true
    },
    "kernelspec": {
      "name": "python3",
      "display_name": "Python 3"
    }
  },
  "cells": [
    {
      "cell_type": "markdown",
      "metadata": {
        "id": "view-in-github",
        "colab_type": "text"
      },
      "source": [
        "<a href=\"https://colab.research.google.com/github/hannah-rae/gee_tutorials/blob/main/SES230_GEE_lab.ipynb\" target=\"_parent\"><img src=\"https://colab.research.google.com/assets/colab-badge.svg\" alt=\"Open In Colab\"/></a>"
      ]
    },
    {
      "cell_type": "markdown",
      "metadata": {
        "id": "3fvhEZHJNciK"
      },
      "source": [
        "# SES 230 Lab\n",
        "# Satellite Data Analysis in Google Earth Engine\n",
        "\n",
        "In the [lecture](https://colab.research.google.com/drive/17IPwrpeK4sAnGy1MGiSVmdT3dc6DXMmM?authuser=1#scrollTo=2vUR2ZLiFh9l) tutorial, we learned how to use GEE to analyze satellite data in the cloud using Landsat, Sentinel-2, band indices, and K-means clustering. \n",
        "\n",
        "In the lab, we'll explore this further with your own ROIs."
      ]
    },
    {
      "cell_type": "markdown",
      "metadata": {
        "id": "2vUR2ZLiFh9l"
      },
      "source": [
        "## Set up your environment"
      ]
    },
    {
      "cell_type": "markdown",
      "metadata": {
        "id": "bHZaixUlFswx"
      },
      "source": [
        "Install the Google Earth Engine API"
      ]
    },
    {
      "cell_type": "code",
      "metadata": {
        "id": "qH7s8RIcDK4Y"
      },
      "source": [
        "!pip install earthengine-api"
      ],
      "execution_count": null,
      "outputs": []
    },
    {
      "cell_type": "markdown",
      "metadata": {
        "id": "hPx9rhiAGOmb"
      },
      "source": [
        "Authenticate your Google Earth Engine account"
      ]
    },
    {
      "cell_type": "code",
      "metadata": {
        "id": "2hM6ivtZDOkh"
      },
      "source": [
        "!earthengine authenticate"
      ],
      "execution_count": null,
      "outputs": []
    },
    {
      "cell_type": "markdown",
      "metadata": {
        "id": "un01YDDTGzKd"
      },
      "source": [
        "Import the Earth Engine API and initialize it."
      ]
    },
    {
      "cell_type": "code",
      "metadata": {
        "id": "RDyckF4ADvZ4"
      },
      "source": [
        "import ee\n",
        "ee.Initialize()"
      ],
      "execution_count": null,
      "outputs": []
    },
    {
      "cell_type": "markdown",
      "metadata": {
        "id": "WqaeFQRBF0pK"
      },
      "source": [
        "Install `geemap`, a python library that provides useful functions for the GEE Python API (https://github.com/giswqs/geemap)"
      ]
    },
    {
      "cell_type": "code",
      "metadata": {
        "id": "b9IkIYQNJoS4"
      },
      "source": [
        "!pip install geemap"
      ],
      "execution_count": null,
      "outputs": []
    },
    {
      "cell_type": "markdown",
      "metadata": {
        "id": "EsOxFbdRG8tr"
      },
      "source": [
        "Import `geemap`. We import the `eefolium` version because the default version uses `ipyleaflet`, which is not supported in Colab yet."
      ]
    },
    {
      "cell_type": "code",
      "metadata": {
        "id": "nSPS66UzHd0S"
      },
      "source": [
        "import geemap.eefolium as geemap"
      ],
      "execution_count": null,
      "outputs": []
    },
    {
      "cell_type": "markdown",
      "metadata": {
        "id": "myH1kEjXGcTz"
      },
      "source": [
        "Mount your Google Drive account as your filesystem for this Colab notebook. This is needed if you want to export data from Google Earth Engine, or you want to open any files from your Google Drive."
      ]
    },
    {
      "cell_type": "code",
      "metadata": {
        "id": "ZvF2k-Y0DUqQ"
      },
      "source": [
        "from google.colab import drive\n",
        "drive.mount('/content/drive')"
      ],
      "execution_count": null,
      "outputs": []
    },
    {
      "cell_type": "markdown",
      "metadata": {
        "id": "aYlji5XZHIlZ"
      },
      "source": [
        "## Define a region of interest (ROI)"
      ]
    },
    {
      "cell_type": "markdown",
      "metadata": {
        "id": "cCyW-3AIHQun"
      },
      "source": [
        "http://bboxfinder.com can be used to draw a bounding box and get the coordinates for that bounding box anywhere in the world.\n",
        "\n",
        "In the lecture, we used this one around Tempe, AZ:\n",
        "http://bboxfinder.com/#33.406947,-111.971585,33.473126,-111.907899\n",
        "\n",
        "Use bboxfinder to draw your own bounding box anywhere in the world and enter the min/max longitude/latitude below:"
      ]
    },
    {
      "cell_type": "code",
      "metadata": {
        "id": "gEEz6AFtGofD"
      },
      "source": [
        "# Enter the min lon, min lat, max lon, max lat\n",
        "xmin,ymin,xmax,ymax = # your code here"
      ],
      "execution_count": null,
      "outputs": []
    },
    {
      "cell_type": "markdown",
      "metadata": {
        "id": "ST7TcyrEIhuJ"
      },
      "source": [
        "Create an `ee.Geometry.Rectangle` object defined by those coordinates."
      ]
    },
    {
      "cell_type": "code",
      "metadata": {
        "id": "XPz4eb6OHRmK"
      },
      "source": [
        "bbox = ee.Geometry.Rectangle([xmin,ymin,xmax,ymax])"
      ],
      "execution_count": null,
      "outputs": []
    },
    {
      "cell_type": "markdown",
      "metadata": {
        "id": "cFsSjJzLIzzc"
      },
      "source": [
        "Then we add your bounding box to the map and give it a name."
      ]
    },
    {
      "cell_type": "code",
      "metadata": {
        "id": "ONKS8cQXKFgU"
      },
      "source": [
        "Map = geemap.Map() # Instantiate a new map\n",
        "Map.addLayer(bbox, name='your name here') # Add the bbox as a layer on the map\n",
        "Map.centerObject(bbox, zoom=10) # Center the Map on the bbox object with zoom level 10\n",
        "\n",
        "Map.addLayerControl() \n",
        "Map"
      ],
      "execution_count": null,
      "outputs": []
    },
    {
      "cell_type": "markdown",
      "metadata": {
        "id": "dq-ZmSxWQy4k"
      },
      "source": [
        "## Load satellite data sets\n",
        "\n",
        "Load the Sentinel-2 image collection and filter it by your ROI. For the time range, use the beginning of 2020 through November 1, 2020."
      ]
    },
    {
      "cell_type": "code",
      "metadata": {
        "id": "kCDKcPfjPiW2"
      },
      "source": [
        "s2 = ee.ImageCollection('COPERNICUS/S2_SR').filterBounds(# your code here).filterDate([#your code here])"
      ],
      "execution_count": null,
      "outputs": []
    },
    {
      "cell_type": "markdown",
      "metadata": {
        "id": "y-vYzPYpRccA"
      },
      "source": [
        "Display the image collection."
      ]
    },
    {
      "cell_type": "code",
      "metadata": {
        "id": "Nto--w3bRosk"
      },
      "source": [
        "visParams = {\n",
        "  'bands': ['B4', 'B3', 'B2'],\n",
        "  'min': 0,\n",
        "  'max': 3000,\n",
        "  'gamma': 1.4,\n",
        "}"
      ],
      "execution_count": null,
      "outputs": []
    },
    {
      "cell_type": "code",
      "metadata": {
        "id": "cMro_yPtRbUN"
      },
      "source": [
        "Map = geemap.Map() # Instantiate a new map\n",
        "Map.addLayer(bbox, name='your name here') # Add the bbox as a layer on the map\n",
        "Map.centerObject(bbox, zoom=10) # Center the Map on the bbox object with zoom level 10\n",
        "\n",
        "Map.addLayer(s2, visParams, name='Sentinel-2') # Add the Sentinel-2 collection for your ROI\n",
        "\n",
        "Map.addLayerControl() \n",
        "Map"
      ],
      "execution_count": null,
      "outputs": []
    },
    {
      "cell_type": "markdown",
      "metadata": {
        "id": "OOoRPLwjR2bI"
      },
      "source": [
        "Create a minimum value composite image from the collection and clip to to your ROI."
      ]
    },
    {
      "cell_type": "code",
      "metadata": {
        "id": "XU_LvMHRRwaT"
      },
      "source": [
        "s2 = s2.min().clip(# your code here)"
      ],
      "execution_count": null,
      "outputs": []
    },
    {
      "cell_type": "code",
      "metadata": {
        "id": "iwMu4nPiR9FN"
      },
      "source": [
        "Map = geemap.Map() # Instantiate a new map\n",
        "Map.addLayer(bbox, name='your name here') # Add the bbox as a layer on the map\n",
        "Map.centerObject(bbox, zoom=10) # Center the Map on the bbox object with zoom level 10\n",
        "\n",
        "Map.addLayer(s2, visParams, name='Sentinel-2') # Add the Sentinel-2 collection for your ROI\n",
        "\n",
        "Map.addLayerControl() \n",
        "Map"
      ],
      "execution_count": null,
      "outputs": []
    },
    {
      "cell_type": "markdown",
      "metadata": {
        "id": "5VgHYEPwSV-m"
      },
      "source": [
        "## Compute band indices\n",
        "\n",
        "Compute normalized difference vegetation index, or NDVI (NIR-RED/NIR+RED)"
      ]
    },
    {
      "cell_type": "code",
      "metadata": {
        "id": "_6NahD7QR_tv"
      },
      "source": [
        "ndvi = # your code here"
      ],
      "execution_count": null,
      "outputs": []
    },
    {
      "cell_type": "code",
      "metadata": {
        "id": "8K1QkDmlSmDF"
      },
      "source": [
        "ndvi_vis = {\n",
        "    'min': -1,\n",
        "    'max':1,\n",
        "    'palette': ['3498DB', 'FFFFFF', '008000']\n",
        "}"
      ],
      "execution_count": null,
      "outputs": []
    },
    {
      "cell_type": "code",
      "metadata": {
        "id": "v_Q044FOSjiF"
      },
      "source": [
        "Map = geemap.Map() # Instantiate a new map\n",
        "Map.addLayer(bbox, name='your name here') # Add the bbox as a layer on the map\n",
        "Map.centerObject(bbox, zoom=10) # Center the Map on the bbox object with zoom level 10\n",
        "\n",
        "Map.addLayer(s2, visParams, name='Sentinel-2') # Add the Sentinel-2 collection for your ROI\n",
        "Map.addLayer(ndvi, ndvi_vis, name='NDVI') # Add the NDVI image\n",
        "\n",
        "Map.addLayerControl() \n",
        "Map"
      ],
      "execution_count": null,
      "outputs": []
    },
    {
      "cell_type": "markdown",
      "metadata": {
        "id": "mvKh22ZBS184"
      },
      "source": [
        "There are many other indices that scientists use in addition to NDVI. One popular index is the normalized difference water index (NDWI). \n",
        "\n",
        "NDWI is computed as: (GREEN-NIR)/(GREEN+NIR)"
      ]
    },
    {
      "cell_type": "code",
      "metadata": {
        "id": "l6TuYMxzSuZ3"
      },
      "source": [
        "ndwi = # your code here"
      ],
      "execution_count": null,
      "outputs": []
    },
    {
      "cell_type": "markdown",
      "metadata": {
        "id": "l7VceqtZUDps"
      },
      "source": [
        "The colors we chose for the NDVI color map were based on what the values of NDVI might show (e.g., low values = water = blue, high values = vegetation = green). \n",
        "\n",
        "For NDWI, let's go from brown to white to blue."
      ]
    },
    {
      "cell_type": "code",
      "metadata": {
        "id": "vMcpkVdYTmMa"
      },
      "source": [
        "ndwi_vis = {\n",
        "    'min': -1,\n",
        "    'max':1,\n",
        "    'palette': ['964B00', 'FFFFFF', '3498DB']\n",
        "}"
      ],
      "execution_count": null,
      "outputs": []
    },
    {
      "cell_type": "code",
      "metadata": {
        "id": "pCpk-RfAToew"
      },
      "source": [
        "Map = geemap.Map() # Instantiate a new map\n",
        "Map.addLayer(bbox, name='your name here') # Add the bbox as a layer on the map\n",
        "Map.centerObject(bbox, zoom=10) # Center the Map on the bbox object with zoom level 10\n",
        "\n",
        "Map.addLayer(s2, visParams, name='Sentinel-2') # Add the Sentinel-2 collection for your ROI\n",
        "Map.addLayer(ndvi, ndvi_vis, name='NDVI') # Add the NDVI image\n",
        "Map.addLayer(ndwi, ndwi_vis, name='NDWI') # Add the NDWI image\n",
        "\n",
        "Map.addLayerControl() \n",
        "Map"
      ],
      "execution_count": null,
      "outputs": []
    },
    {
      "cell_type": "markdown",
      "metadata": {
        "id": "38OsfuV9VHFc"
      },
      "source": [
        "## Cluster analysis\n",
        "\n",
        "In the lecture, we clustered NDVI values to reveal land cover patterns. Now, let's cluster NDWI values.\n",
        "\n",
        "Create the training data set then train the clusterer."
      ]
    },
    {
      "cell_type": "code",
      "metadata": {
        "id": "1HAFe8olTsPU"
      },
      "source": [
        "# Make the training dataset.\n",
        "training = ndwi.sample(**{\n",
        "  'region': bbox, # restrict the sampling to our bounding box\n",
        "  'scale': 10, # sample within 30m/pixel cells, i.e. the data set resolution\n",
        "  'numPixels': 1000 # number of samples to draw\n",
        "})"
      ],
      "execution_count": null,
      "outputs": []
    },
    {
      "cell_type": "code",
      "metadata": {
        "id": "Aq_2pFEGVlq1"
      },
      "source": [
        "clusterer = ee.Clusterer.wekaKMeans(# your code here).train(training)"
      ],
      "execution_count": null,
      "outputs": []
    },
    {
      "cell_type": "markdown",
      "metadata": {
        "id": "wQymTA8sVrN8"
      },
      "source": [
        "Cluster (predict on) the data set using the trained clusterer model."
      ]
    },
    {
      "cell_type": "code",
      "metadata": {
        "id": "D-CiBc8sVrN9"
      },
      "source": [
        "result = ndwi.cluster(clusterer)"
      ],
      "execution_count": null,
      "outputs": []
    },
    {
      "cell_type": "markdown",
      "metadata": {
        "id": "Mj6Cm6KHMZIm"
      },
      "source": [
        "Visualize the clusters."
      ]
    },
    {
      "cell_type": "code",
      "metadata": {
        "id": "oyMi3Av7ycqY"
      },
      "source": [
        "Map = geemap.Map() # Instantiate a new map\n",
        "Map.addLayer(bbox, name='your name here') # Add the bbox as a layer on the map\n",
        "Map.centerObject(bbox, zoom=10) # Center the Map on the bbox object with zoom level 10\n",
        "\n",
        "Map.addLayer(s2, visParams, name='Sentinel-2') # Add the Sentinel-2 collection for your ROI\n",
        "Map.addLayer(ndwi, ndwi_vis, name='NDWI') # Add the NDWI image\n",
        "Map.addLayer(result.randomVisualizer(), name='Clusters') # Add the cluster results\n",
        "\n",
        "Map.addLayerControl() \n",
        "Map"
      ],
      "execution_count": null,
      "outputs": []
    },
    {
      "cell_type": "markdown",
      "metadata": {
        "id": "8eloCt9yWd5_"
      },
      "source": [
        "## Save your results\n",
        "\n",
        "Hooray! You've made it to the end. Save your NDWI image and cluster results as images."
      ]
    },
    {
      "cell_type": "code",
      "metadata": {
        "id": "1gHBdcdFVd5t"
      },
      "source": [
        "task = ee.batch.Export.image.toDrive(image=ndwi, \n",
        "                                           description='SES 230 NDWI', \n",
        "                                           scale=10, \n",
        "                                           region=bbox)"
      ],
      "execution_count": null,
      "outputs": []
    },
    {
      "cell_type": "code",
      "metadata": {
        "id": "MW3RFriHXElF"
      },
      "source": [
        "task.start()"
      ],
      "execution_count": null,
      "outputs": []
    },
    {
      "cell_type": "code",
      "metadata": {
        "id": "8YzXwc3SYY4h"
      },
      "source": [
        "task2 = ee.batch.Export.image.toDrive(image=result, \n",
        "                                           description='SES 230 Clusters', \n",
        "                                           scale=10, \n",
        "                                           region=bbox)"
      ],
      "execution_count": null,
      "outputs": []
    },
    {
      "cell_type": "code",
      "metadata": {
        "id": "GpkTUiXEdwuo"
      },
      "source": [
        "task2.start()"
      ],
      "execution_count": null,
      "outputs": []
    },
    {
      "cell_type": "code",
      "metadata": {
        "id": "xDhLPxg-dyN3"
      },
      "source": [
        "task.status()"
      ],
      "execution_count": null,
      "outputs": []
    },
    {
      "cell_type": "code",
      "metadata": {
        "id": "UwarWl_Rd0B4"
      },
      "source": [
        "task2.status()"
      ],
      "execution_count": null,
      "outputs": []
    },
    {
      "cell_type": "markdown",
      "metadata": {
        "id": "8BL126Beejdm"
      },
      "source": [
        "## Bonus: load a new satellite data set\n",
        "\n",
        "Explore the GEE catalog and display a different data set within your ROI. \n",
        "\n",
        "https://developers.google.com/earth-engine/datasets\n",
        "\n",
        "Some ideas are:\n",
        "*   Thermal IR: https://developers.google.com/earth-engine/datasets/catalog/ASTER_AST_L1T_003\n",
        "*   Nighttime lights: https://developers.google.com/earth-engine/datasets/catalog/NOAA_DMSP-OLS_NIGHTTIME_LIGHTS?hl=en\n",
        "* Precipitation: https://developers.google.com/earth-engine/datasets/catalog/NASA_GPM_L3_IMERG_V06\n",
        "\n"
      ]
    },
    {
      "cell_type": "code",
      "metadata": {
        "id": "rIKvMBgZeyzm"
      },
      "source": [
        "# your code here"
      ],
      "execution_count": null,
      "outputs": []
    }
  ]
}